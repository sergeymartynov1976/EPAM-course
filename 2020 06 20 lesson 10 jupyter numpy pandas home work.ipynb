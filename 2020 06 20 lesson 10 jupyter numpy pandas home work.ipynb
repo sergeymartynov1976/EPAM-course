{
 "cells": [
  {
   "cell_type": "code",
   "execution_count": 1,
   "metadata": {},
   "outputs": [],
   "source": [
    "# import necessary modules\n",
    "import numpy as np\n",
    "import pandas as pd\n",
    "import matplotlib.pyplot as plt"
   ]
  },
  {
   "cell_type": "markdown",
   "metadata": {},
   "source": [
    "##### Домашнее задание. \n",
    "\n",
    "Во вкладке Files в группе Webinars прикреплен файл _olimpicmedals.csv с данными о медалях на\n",
    "Олимпийских играх за 1896-2008 годы.\n",
    "Скачайте .csv файл себе на диск, загрузите данные в DataFrame (функция _readcsv) и ответьте на\n",
    "следующие вопросы, используя функционал pandas:\n",
    "1. Сколько медалей выиграл Jesse Owens в 1936?\n",
    "2. Какая страна выйграла большинство золотых медалей мужчинами в бадминтоне?\n",
    "3. Какие три страны выйграли большинство медалей в последние годы (с 1984 по 2008)?\n",
    "4. Покажите мужчин золотых медалистов по 100m. Выведите результаты по убыванию года выйгрыша.\n",
    "Покажите город в котором проходила олимпиала, год, имя атлета и страну за которую он выступал.\n",
    "5. Как много медалей было выйграно мужчинами и женщинами в истории олимпиады. Как много\n",
    "золотых, серебрянных и бронзовых медалей было выйграно каждым полом?\n",
    "6. Используя groupby(), постройте график числа всех медалей выйгранных на каждой олимпиаде.\n",
    "7. Создайте список показывающий число всех медалей выйгранных каждой страной в течение всей\n",
    "истории олимпийских игр. Для каждой страны, необходимо показать год первой и последней\n",
    "заработанной медали.\n",
    "8. Атлеты выйгравшие медали в Beijing на дистанции 100m или 200m\n",
    "9. Постройте график числа золотых медалей выйгранных США мужчинами и женщинами в атлетике.\n",
    "10. Постройте график 5 атлетов которые выйграли большинство золотых медалей.\n",
    "11. Покажите суммарное количество медалей выйгранных странами в последних олимпийских играх.\n",
    "12. Постройте таблицу в которой по годам всех олимпиад покажите топовых атлетов США(1 атлет на год)\n",
    "по общему количеству медалей. Включите дисциплину атлета."
   ]
  },
  {
   "cell_type": "code",
   "execution_count": 2,
   "metadata": {},
   "outputs": [],
   "source": [
    "# Load data\n",
    "data = pd.read_csv('olimpic_medals.csv', header = 0)"
   ]
  },
  {
   "cell_type": "code",
   "execution_count": 3,
   "metadata": {},
   "outputs": [
    {
     "data": {
      "text/html": [
       "<div>\n",
       "<style scoped>\n",
       "    .dataframe tbody tr th:only-of-type {\n",
       "        vertical-align: middle;\n",
       "    }\n",
       "\n",
       "    .dataframe tbody tr th {\n",
       "        vertical-align: top;\n",
       "    }\n",
       "\n",
       "    .dataframe thead th {\n",
       "        text-align: right;\n",
       "    }\n",
       "</style>\n",
       "<table border=\"1\" class=\"dataframe\">\n",
       "  <thead>\n",
       "    <tr style=\"text-align: right;\">\n",
       "      <th></th>\n",
       "      <th>City</th>\n",
       "      <th>Edition</th>\n",
       "      <th>Sport</th>\n",
       "      <th>Discipline</th>\n",
       "      <th>Athlete</th>\n",
       "      <th>NOC</th>\n",
       "      <th>Gender</th>\n",
       "      <th>Event</th>\n",
       "      <th>Event_gender</th>\n",
       "      <th>Medal</th>\n",
       "    </tr>\n",
       "  </thead>\n",
       "  <tbody>\n",
       "    <tr>\n",
       "      <th>0</th>\n",
       "      <td>Athens</td>\n",
       "      <td>1896</td>\n",
       "      <td>Aquatics</td>\n",
       "      <td>Swimming</td>\n",
       "      <td>HAJOS, Alfred</td>\n",
       "      <td>HUN</td>\n",
       "      <td>Men</td>\n",
       "      <td>100m freestyle</td>\n",
       "      <td>M</td>\n",
       "      <td>Gold</td>\n",
       "    </tr>\n",
       "    <tr>\n",
       "      <th>1</th>\n",
       "      <td>Athens</td>\n",
       "      <td>1896</td>\n",
       "      <td>Aquatics</td>\n",
       "      <td>Swimming</td>\n",
       "      <td>HERSCHMANN, Otto</td>\n",
       "      <td>AUT</td>\n",
       "      <td>Men</td>\n",
       "      <td>100m freestyle</td>\n",
       "      <td>M</td>\n",
       "      <td>Silver</td>\n",
       "    </tr>\n",
       "    <tr>\n",
       "      <th>2</th>\n",
       "      <td>Athens</td>\n",
       "      <td>1896</td>\n",
       "      <td>Aquatics</td>\n",
       "      <td>Swimming</td>\n",
       "      <td>DRIVAS, Dimitrios</td>\n",
       "      <td>GRE</td>\n",
       "      <td>Men</td>\n",
       "      <td>100m freestyle for sailors</td>\n",
       "      <td>M</td>\n",
       "      <td>Bronze</td>\n",
       "    </tr>\n",
       "    <tr>\n",
       "      <th>3</th>\n",
       "      <td>Athens</td>\n",
       "      <td>1896</td>\n",
       "      <td>Aquatics</td>\n",
       "      <td>Swimming</td>\n",
       "      <td>MALOKINIS, Ioannis</td>\n",
       "      <td>GRE</td>\n",
       "      <td>Men</td>\n",
       "      <td>100m freestyle for sailors</td>\n",
       "      <td>M</td>\n",
       "      <td>Gold</td>\n",
       "    </tr>\n",
       "    <tr>\n",
       "      <th>4</th>\n",
       "      <td>Athens</td>\n",
       "      <td>1896</td>\n",
       "      <td>Aquatics</td>\n",
       "      <td>Swimming</td>\n",
       "      <td>CHASAPIS, Spiridon</td>\n",
       "      <td>GRE</td>\n",
       "      <td>Men</td>\n",
       "      <td>100m freestyle for sailors</td>\n",
       "      <td>M</td>\n",
       "      <td>Silver</td>\n",
       "    </tr>\n",
       "  </tbody>\n",
       "</table>\n",
       "</div>"
      ],
      "text/plain": [
       "     City  Edition     Sport Discipline             Athlete  NOC Gender  \\\n",
       "0  Athens     1896  Aquatics   Swimming       HAJOS, Alfred  HUN    Men   \n",
       "1  Athens     1896  Aquatics   Swimming    HERSCHMANN, Otto  AUT    Men   \n",
       "2  Athens     1896  Aquatics   Swimming   DRIVAS, Dimitrios  GRE    Men   \n",
       "3  Athens     1896  Aquatics   Swimming  MALOKINIS, Ioannis  GRE    Men   \n",
       "4  Athens     1896  Aquatics   Swimming  CHASAPIS, Spiridon  GRE    Men   \n",
       "\n",
       "                        Event Event_gender   Medal  \n",
       "0              100m freestyle            M    Gold  \n",
       "1              100m freestyle            M  Silver  \n",
       "2  100m freestyle for sailors            M  Bronze  \n",
       "3  100m freestyle for sailors            M    Gold  \n",
       "4  100m freestyle for sailors            M  Silver  "
      ]
     },
     "execution_count": 3,
     "metadata": {},
     "output_type": "execute_result"
    }
   ],
   "source": [
    "data.head()"
   ]
  },
  {
   "cell_type": "code",
   "execution_count": 4,
   "metadata": {},
   "outputs": [
    {
     "name": "stdout",
     "output_type": "stream",
     "text": [
      "<class 'pandas.core.frame.DataFrame'>\n",
      "RangeIndex: 29216 entries, 0 to 29215\n",
      "Data columns (total 10 columns):\n",
      " #   Column        Non-Null Count  Dtype \n",
      "---  ------        --------------  ----- \n",
      " 0   City          29216 non-null  object\n",
      " 1   Edition       29216 non-null  int64 \n",
      " 2   Sport         29216 non-null  object\n",
      " 3   Discipline    29216 non-null  object\n",
      " 4   Athlete       29216 non-null  object\n",
      " 5   NOC           29216 non-null  object\n",
      " 6   Gender        29216 non-null  object\n",
      " 7   Event         29216 non-null  object\n",
      " 8   Event_gender  29216 non-null  object\n",
      " 9   Medal         29216 non-null  object\n",
      "dtypes: int64(1), object(9)\n",
      "memory usage: 2.2+ MB\n"
     ]
    }
   ],
   "source": [
    "data.info()"
   ]
  },
  {
   "cell_type": "markdown",
   "metadata": {},
   "source": [
    "##### 1. Сколько медалей выиграл Jesse Owens в 1936?"
   ]
  },
  {
   "cell_type": "code",
   "execution_count": 5,
   "metadata": {},
   "outputs": [],
   "source": [
    "# Jesse Owens medals\n",
    "jo_medals = len(data[(data.Athlete == 'OWENS, Jesse') & (data.Edition == 1936)])"
   ]
  },
  {
   "cell_type": "code",
   "execution_count": 6,
   "metadata": {},
   "outputs": [
    {
     "name": "stdout",
     "output_type": "stream",
     "text": [
      "Jesse Owens took 4 medals in 1936 year\n"
     ]
    }
   ],
   "source": [
    "print(f'Jesse Owens took {jo_medals} medals in 1936 year')"
   ]
  },
  {
   "cell_type": "markdown",
   "metadata": {},
   "source": [
    "##### 2. Какая страна выйграла большинство золотых медалей мужчинами в бадминтоне?"
   ]
  },
  {
   "cell_type": "code",
   "execution_count": 7,
   "metadata": {},
   "outputs": [],
   "source": [
    "# Gold medals in badminton\n",
    "badminton = data[(data.Discipline == 'Badminton') & (data.Medal == 'Gold')]['NOC'].value_counts().index[0]"
   ]
  },
  {
   "cell_type": "code",
   "execution_count": 8,
   "metadata": {},
   "outputs": [
    {
     "name": "stdout",
     "output_type": "stream",
     "text": [
      "CHN has won the bigest number of medals in badminton.\n"
     ]
    }
   ],
   "source": [
    "print(f'{badminton} has won the bigest number of medals in badminton.')"
   ]
  },
  {
   "cell_type": "markdown",
   "metadata": {},
   "source": [
    "##### 3. Какие три страны выйграли большинство медалей в последние годы (с 1984 по 2008)?"
   ]
  },
  {
   "cell_type": "code",
   "execution_count": 9,
   "metadata": {},
   "outputs": [],
   "source": [
    "# Countries with bigest number of medals from 1984 till 2008\n",
    "countries = [i for i in data[(data.Edition >= 1984) & (data.Edition <= 2008)]['NOC'].value_counts().index[0:3]]"
   ]
  },
  {
   "cell_type": "code",
   "execution_count": 10,
   "metadata": {},
   "outputs": [
    {
     "name": "stdout",
     "output_type": "stream",
     "text": [
      "USA, AUS, GER have won bigest quantity of medals.\n"
     ]
    }
   ],
   "source": [
    "print(*countries, sep = ', ', end = ' ')\n",
    "print('have won bigest quantity of medals.')"
   ]
  },
  {
   "cell_type": "markdown",
   "metadata": {},
   "source": [
    "##### 4. Покажите мужчин золотых медалистов по 100m. Выведите результаты по убыванию года выйгрыша.\n",
    "Покажите город в котором проходила олимпиала, год, имя атлета и страну за которую он выступал."
   ]
  },
  {
   "cell_type": "code",
   "execution_count": 11,
   "metadata": {},
   "outputs": [],
   "source": [
    "# Gold medal men for 100m.\n",
    "gold_100m = data[['Athlete', 'NOC', 'City', 'Edition']][(data.Event == '100m') & (data.Gender == 'Men') & \n",
    "                                                       (data.Medal == 'Gold')]\n",
    "gold_100m.sort_values(by = 'Edition', ascending=False, inplace=True)"
   ]
  },
  {
   "cell_type": "code",
   "execution_count": 12,
   "metadata": {},
   "outputs": [
    {
     "name": "stdout",
     "output_type": "stream",
     "text": [
      "Men who won gold medals in 100m:\n",
      "                      Athlete  NOC                   City  Edition\n",
      "27552            BOLT, Usain  JAM                Beijing     2008\n",
      "25539         GATLIN, Justin  USA                 Athens     2004\n",
      "23521        GREENE, Maurice  USA                 Sydney     2000\n",
      "21598        BAILEY, Donovan  CAN                Atlanta     1996\n",
      "19859      CHRISTIE, Linford  GBR              Barcelona     1992\n",
      "18284            LEWIS, Carl  USA                  Seoul     1988\n",
      "16794            LEWIS, Carl  USA            Los Angeles     1984\n",
      "15374           WELLS, Allan  GBR                 Moscow     1980\n",
      "14069       CRAWFORD, Hasely  TRI               Montreal     1976\n",
      "12902         BORZOV, Valery  URS                 Munich     1972\n",
      "11865       HINES, James Ray  USA                 Mexico     1968\n",
      "10823          HAYES, Robert  USA                  Tokyo     1964\n",
      "9924             HARY, Armin  EUA                   Rome     1960\n",
      "9009   MORROW, Robert Joseph  USA  Melbourne / Stockholm     1956\n",
      "8121         REMIGINO, Lindy  USA               Helsinki     1952\n",
      "7302       DILLARD, Harrison  USA                 London     1948\n",
      "6427            OWENS, Jesse  USA                 Berlin     1936\n",
      "5806            TOLAN, Eddie  USA            Los Angeles     1932\n",
      "5095         WILLIAMS, Percy  CAN              Amsterdam     1928\n",
      "4236        ABRAHAMS, Harold  GBR                  Paris     1924\n",
      "2996        PADDOCK, Charles  USA                Antwerp     1920\n",
      "2022            CRAIG, Ralph  USA              Stockholm     1912\n",
      "1191        WALKER, Reginald  RSA                 London     1908\n",
      "737             HAHN, Archie  USA               St Louis     1904\n",
      "231          JARVIS, Francis  USA                  Paris     1900\n",
      "13             BURKE, Thomas  USA                 Athens     1896\n"
     ]
    }
   ],
   "source": [
    "print(f'Men who won gold medals in 100m:\\n {gold_100m}')"
   ]
  },
  {
   "cell_type": "markdown",
   "metadata": {},
   "source": [
    "##### 5. Как много медалей было выйграно мужчинами и женщинами в истории олимпиады. Как много золотых, серебрянных и бронзовых медалей было выйграно каждым полом?"
   ]
  },
  {
   "cell_type": "code",
   "execution_count": 13,
   "metadata": {},
   "outputs": [],
   "source": [
    "# How many medals did men and women win?\n",
    "men_medals = data[data.Gender == 'Men']['Medal'].count()\n",
    "wom_medals = data[data.Gender == 'Women']['Medal'].count()"
   ]
  },
  {
   "cell_type": "code",
   "execution_count": 14,
   "metadata": {},
   "outputs": [
    {
     "name": "stdout",
     "output_type": "stream",
     "text": [
      "Men won 21721 medals, women won 7495 medals.\n"
     ]
    }
   ],
   "source": [
    "print(f'Men won {men_medals} medals, women won {wom_medals} medals.')"
   ]
  },
  {
   "cell_type": "code",
   "execution_count": 15,
   "metadata": {},
   "outputs": [],
   "source": [
    "# Medals types for genders\n",
    "df_gen_medal = pd.crosstab(data.Gender, data.Medal)"
   ]
  },
  {
   "cell_type": "code",
   "execution_count": 16,
   "metadata": {},
   "outputs": [
    {
     "name": "stdout",
     "output_type": "stream",
     "text": [
      "Medals per gender: \n",
      "\n",
      "Medal   Bronze  Gold  Silver\n",
      "Gender                      \n",
      "Men       7175  7365    7181\n",
      "Women     2514  2485    2496\n"
     ]
    }
   ],
   "source": [
    "print(f'Medals per gender: \\n\\n{df_gen_medal}')"
   ]
  },
  {
   "cell_type": "markdown",
   "metadata": {},
   "source": [
    "##### 6. Используя groupby(), постройте график числа всех медалей выйгранных на каждой олимпиаде."
   ]
  },
  {
   "cell_type": "code",
   "execution_count": 17,
   "metadata": {},
   "outputs": [],
   "source": [
    "# Medals curves\n",
    "gr_data = data.groupby('Edition')"
   ]
  },
  {
   "cell_type": "code",
   "execution_count": 18,
   "metadata": {},
   "outputs": [
    {
     "data": {
      "image/png": "[encoded data removed]",
      "text/plain": [
       "<Figure size 1008x504 with 1 Axes>"
      ]
     },
     "metadata": {
      "needs_background": "light"
     },
     "output_type": "display_data"
    }
   ],
   "source": [
    "gr_data.Medal.count().plot(figsize=(14, 7), title = 'Number of medals per year',\n",
    "                          legend = True)\n",
    "plt.show()"
   ]
  },
  {
   "cell_type": "markdown",
   "metadata": {},
   "source": [
    "##### 7. Создайте список показывающий число всех медалей выйгранных каждой страной в течение всей истории олимпийских игр. Для каждой страны, необходимо показать год первой и последней заработанной медали."
   ]
  },
  {
   "cell_type": "code",
   "execution_count": 19,
   "metadata": {},
   "outputs": [],
   "source": [
    "# Medals by countries\n",
    "country_medals = data.groupby('NOC')"
   ]
  },
  {
   "cell_type": "code",
   "execution_count": 20,
   "metadata": {},
   "outputs": [],
   "source": [
    "# Create list of countries with data about medals\n",
    "medals_by_contry = pd.DataFrame({'NOC': [c for c, gr in country_medals], \n",
    "                      'Medals_quantity': [gr.Medal.count() for c, gr in country_medals], \n",
    "                     'First_medal_year': [sorted(list(gr.Edition))[0] for c, gr in country_medals],\n",
    "                     'Last_medal_year': [sorted(list(gr.Edition))[-1] for c, gr in country_medals]})"
   ]
  },
  {
   "cell_type": "code",
   "execution_count": 21,
   "metadata": {},
   "outputs": [
    {
     "data": {
      "text/html": [
       "<div>\n",
       "<style scoped>\n",
       "    .dataframe tbody tr th:only-of-type {\n",
       "        vertical-align: middle;\n",
       "    }\n",
       "\n",
       "    .dataframe tbody tr th {\n",
       "        vertical-align: top;\n",
       "    }\n",
       "\n",
       "    .dataframe thead th {\n",
       "        text-align: right;\n",
       "    }\n",
       "</style>\n",
       "<table border=\"1\" class=\"dataframe\">\n",
       "  <thead>\n",
       "    <tr style=\"text-align: right;\">\n",
       "      <th></th>\n",
       "      <th>NOC</th>\n",
       "      <th>Medals_quantity</th>\n",
       "      <th>First_medal_year</th>\n",
       "      <th>Last_medal_year</th>\n",
       "    </tr>\n",
       "  </thead>\n",
       "  <tbody>\n",
       "    <tr>\n",
       "      <th>0</th>\n",
       "      <td>AFG</td>\n",
       "      <td>1</td>\n",
       "      <td>2008</td>\n",
       "      <td>2008</td>\n",
       "    </tr>\n",
       "    <tr>\n",
       "      <th>1</th>\n",
       "      <td>AHO</td>\n",
       "      <td>1</td>\n",
       "      <td>1988</td>\n",
       "      <td>1988</td>\n",
       "    </tr>\n",
       "    <tr>\n",
       "      <th>2</th>\n",
       "      <td>ALG</td>\n",
       "      <td>14</td>\n",
       "      <td>1984</td>\n",
       "      <td>2008</td>\n",
       "    </tr>\n",
       "    <tr>\n",
       "      <th>3</th>\n",
       "      <td>ANZ</td>\n",
       "      <td>29</td>\n",
       "      <td>1908</td>\n",
       "      <td>1912</td>\n",
       "    </tr>\n",
       "    <tr>\n",
       "      <th>4</th>\n",
       "      <td>ARG</td>\n",
       "      <td>239</td>\n",
       "      <td>1924</td>\n",
       "      <td>2008</td>\n",
       "    </tr>\n",
       "    <tr>\n",
       "      <th>...</th>\n",
       "      <td>...</td>\n",
       "      <td>...</td>\n",
       "      <td>...</td>\n",
       "      <td>...</td>\n",
       "    </tr>\n",
       "    <tr>\n",
       "      <th>133</th>\n",
       "      <td>VIE</td>\n",
       "      <td>2</td>\n",
       "      <td>2000</td>\n",
       "      <td>2008</td>\n",
       "    </tr>\n",
       "    <tr>\n",
       "      <th>134</th>\n",
       "      <td>YUG</td>\n",
       "      <td>435</td>\n",
       "      <td>1924</td>\n",
       "      <td>2000</td>\n",
       "    </tr>\n",
       "    <tr>\n",
       "      <th>135</th>\n",
       "      <td>ZAM</td>\n",
       "      <td>2</td>\n",
       "      <td>1984</td>\n",
       "      <td>1996</td>\n",
       "    </tr>\n",
       "    <tr>\n",
       "      <th>136</th>\n",
       "      <td>ZIM</td>\n",
       "      <td>23</td>\n",
       "      <td>1980</td>\n",
       "      <td>2008</td>\n",
       "    </tr>\n",
       "    <tr>\n",
       "      <th>137</th>\n",
       "      <td>ZZX</td>\n",
       "      <td>48</td>\n",
       "      <td>1896</td>\n",
       "      <td>1904</td>\n",
       "    </tr>\n",
       "  </tbody>\n",
       "</table>\n",
       "<p>138 rows × 4 columns</p>\n",
       "</div>"
      ],
      "text/plain": [
       "     NOC  Medals_quantity  First_medal_year  Last_medal_year\n",
       "0    AFG                1              2008             2008\n",
       "1    AHO                1              1988             1988\n",
       "2    ALG               14              1984             2008\n",
       "3    ANZ               29              1908             1912\n",
       "4    ARG              239              1924             2008\n",
       "..   ...              ...               ...              ...\n",
       "133  VIE                2              2000             2008\n",
       "134  YUG              435              1924             2000\n",
       "135  ZAM                2              1984             1996\n",
       "136  ZIM               23              1980             2008\n",
       "137  ZZX               48              1896             1904\n",
       "\n",
       "[138 rows x 4 columns]"
      ]
     },
     "execution_count": 21,
     "metadata": {},
     "output_type": "execute_result"
    }
   ],
   "source": [
    "medals_by_contry"
   ]
  },
  {
   "cell_type": "markdown",
   "metadata": {},
   "source": [
    "##### 8. Атлеты выйгравшие медали в Beijing на дистанции 100m или 200m"
   ]
  },
  {
   "cell_type": "code",
   "execution_count": 22,
   "metadata": {},
   "outputs": [],
   "source": [
    "# Athletes who won medals in Beijing in 100m or 200m\n",
    "at_100_200 = data[['Athlete', 'NOC', 'Medal', 'Event']][(data.City == 'Beijing') & \n",
    "                                                        ((data.Event == '100m') | (data.Event == '200m'))]"
   ]
  },
  {
   "cell_type": "code",
   "execution_count": 23,
   "metadata": {},
   "outputs": [
    {
     "name": "stdout",
     "output_type": "stream",
     "text": [
      "Athletes who won medals in Beijing in 100m or 200m:\n",
      "\n",
      "                        Athlete  NOC   Medal Event\n",
      "27551               DIX, Walter  USA  Bronze  100m\n",
      "27552               BOLT, Usain  JAM    Gold  100m\n",
      "27553         THOMPSON, Richard  TRI  Silver  100m\n",
      "27554        FRASER, Shelly-ann  JAM    Gold  100m\n",
      "27555          SIMPSON, Sherone  JAM  Silver  100m\n",
      "27556           STEWART, Kerron  JAM  Silver  100m\n",
      "27569               DIX, Walter  USA  Bronze  200m\n",
      "27570               BOLT, Usain  JAM    Gold  200m\n",
      "27571           CRAWFORD, Shawn  USA  Silver  200m\n",
      "27572           STEWART, Kerron  JAM  Bronze  200m\n",
      "27573  CAMPBELL-BROWN, Veronica  JAM    Gold  200m\n",
      "27574            FELIX, Allyson  USA  Silver  200m\n"
     ]
    }
   ],
   "source": [
    "print(f'Athletes who won medals in Beijing in 100m or 200m:\\n\\n{at_100_200}')"
   ]
  },
  {
   "cell_type": "markdown",
   "metadata": {},
   "source": [
    "##### 9. Постройте график числа золотых медалей выйгранных США мужчинами и женщинами в атлетике."
   ]
  },
  {
   "cell_type": "code",
   "execution_count": 24,
   "metadata": {},
   "outputs": [],
   "source": [
    "# Sportsmen from USA who won gold medals in athletic\n",
    "usa_gold = data[['Athlete', 'Gender', 'Edition', 'Event']\n",
    "                   ][(data.NOC == 'USA') & (data.Medal == 'Gold') & (data.Discipline == 'Athletics')]"
   ]
  },
  {
   "cell_type": "code",
   "execution_count": 25,
   "metadata": {},
   "outputs": [
    {
     "data": {
      "text/html": [
       "<div>\n",
       "<style scoped>\n",
       "    .dataframe tbody tr th:only-of-type {\n",
       "        vertical-align: middle;\n",
       "    }\n",
       "\n",
       "    .dataframe tbody tr th {\n",
       "        vertical-align: top;\n",
       "    }\n",
       "\n",
       "    .dataframe thead th {\n",
       "        text-align: right;\n",
       "    }\n",
       "</style>\n",
       "<table border=\"1\" class=\"dataframe\">\n",
       "  <thead>\n",
       "    <tr style=\"text-align: right;\">\n",
       "      <th></th>\n",
       "      <th>Athlete</th>\n",
       "      <th>Gender</th>\n",
       "      <th>Edition</th>\n",
       "      <th>Event</th>\n",
       "    </tr>\n",
       "  </thead>\n",
       "  <tbody>\n",
       "    <tr>\n",
       "      <th>13</th>\n",
       "      <td>BURKE, Thomas</td>\n",
       "      <td>Men</td>\n",
       "      <td>1896</td>\n",
       "      <td>100m</td>\n",
       "    </tr>\n",
       "    <tr>\n",
       "      <th>15</th>\n",
       "      <td>CURTIS, Thomas</td>\n",
       "      <td>Men</td>\n",
       "      <td>1896</td>\n",
       "      <td>110m hurdles</td>\n",
       "    </tr>\n",
       "    <tr>\n",
       "      <th>21</th>\n",
       "      <td>BURKE, Thomas</td>\n",
       "      <td>Men</td>\n",
       "      <td>1896</td>\n",
       "      <td>400m</td>\n",
       "    </tr>\n",
       "    <tr>\n",
       "      <th>27</th>\n",
       "      <td>GARRETT, Robert</td>\n",
       "      <td>Men</td>\n",
       "      <td>1896</td>\n",
       "      <td>discus throw</td>\n",
       "    </tr>\n",
       "    <tr>\n",
       "      <th>29</th>\n",
       "      <td>CLARK, Ellery</td>\n",
       "      <td>Men</td>\n",
       "      <td>1896</td>\n",
       "      <td>high jump</td>\n",
       "    </tr>\n",
       "    <tr>\n",
       "      <th>...</th>\n",
       "      <td>...</td>\n",
       "      <td>...</td>\n",
       "      <td>...</td>\n",
       "      <td>...</td>\n",
       "    </tr>\n",
       "    <tr>\n",
       "      <th>27640</th>\n",
       "      <td>HENDERSON, Monique</td>\n",
       "      <td>Women</td>\n",
       "      <td>2008</td>\n",
       "      <td>4x400m relay</td>\n",
       "    </tr>\n",
       "    <tr>\n",
       "      <th>27641</th>\n",
       "      <td>RICHARDS, Sanya</td>\n",
       "      <td>Women</td>\n",
       "      <td>2008</td>\n",
       "      <td>4x400m relay</td>\n",
       "    </tr>\n",
       "    <tr>\n",
       "      <th>27642</th>\n",
       "      <td>WINEBERG, Mary</td>\n",
       "      <td>Women</td>\n",
       "      <td>2008</td>\n",
       "      <td>4x400m relay</td>\n",
       "    </tr>\n",
       "    <tr>\n",
       "      <th>27663</th>\n",
       "      <td>CLAY, Bryan</td>\n",
       "      <td>Men</td>\n",
       "      <td>2008</td>\n",
       "      <td>decathlon</td>\n",
       "    </tr>\n",
       "    <tr>\n",
       "      <th>27669</th>\n",
       "      <td>BROWN TRAFTON, Stephanie</td>\n",
       "      <td>Women</td>\n",
       "      <td>2008</td>\n",
       "      <td>discus throw</td>\n",
       "    </tr>\n",
       "  </tbody>\n",
       "</table>\n",
       "<p>472 rows × 4 columns</p>\n",
       "</div>"
      ],
      "text/plain": [
       "                        Athlete Gender  Edition         Event\n",
       "13                BURKE, Thomas    Men     1896          100m\n",
       "15               CURTIS, Thomas    Men     1896  110m hurdles\n",
       "21                BURKE, Thomas    Men     1896          400m\n",
       "27              GARRETT, Robert    Men     1896  discus throw\n",
       "29                CLARK, Ellery    Men     1896     high jump\n",
       "...                         ...    ...      ...           ...\n",
       "27640        HENDERSON, Monique  Women     2008  4x400m relay\n",
       "27641           RICHARDS, Sanya  Women     2008  4x400m relay\n",
       "27642            WINEBERG, Mary  Women     2008  4x400m relay\n",
       "27663               CLAY, Bryan    Men     2008     decathlon\n",
       "27669  BROWN TRAFTON, Stephanie  Women     2008  discus throw\n",
       "\n",
       "[472 rows x 4 columns]"
      ]
     },
     "execution_count": 25,
     "metadata": {},
     "output_type": "execute_result"
    }
   ],
   "source": [
    "usa_gold"
   ]
  },
  {
   "cell_type": "code",
   "execution_count": 26,
   "metadata": {},
   "outputs": [
    {
     "data": {
      "image/png": "[encoded data removed]",
      "text/plain": [
       "<Figure size 1008x504 with 1 Axes>"
      ]
     },
     "metadata": {
      "needs_background": "light"
     },
     "output_type": "display_data"
    }
   ],
   "source": [
    "usa_gold.groupby('Edition').Event.count().plot(figsize=(14, 7), title = 'Number of gold medals per year',\n",
    "                          legend = False)\n",
    "plt.show()"
   ]
  },
  {
   "cell_type": "code",
   "execution_count": 27,
   "metadata": {},
   "outputs": [
    {
     "data": {
      "text/plain": [
       "Edition\n",
       "1896     9\n",
       "1900    16\n",
       "1904    27\n",
       "1908    19\n",
       "1912    23\n",
       "1920    14\n",
       "1924    18\n",
       "1928    15\n",
       "1932    25\n",
       "1936    20\n",
       "1948    18\n",
       "1952    21\n",
       "1956    22\n",
       "1960    18\n",
       "1964    20\n",
       "1968    24\n",
       "1972     9\n",
       "1976    12\n",
       "1984    28\n",
       "1988    19\n",
       "1992    25\n",
       "1996    25\n",
       "2000    15\n",
       "2004    17\n",
       "2008    13\n",
       "Name: Event, dtype: int64"
      ]
     },
     "execution_count": 27,
     "metadata": {},
     "output_type": "execute_result"
    }
   ],
   "source": [
    "usa_gold.groupby('Edition').Event.count()"
   ]
  },
  {
   "cell_type": "markdown",
   "metadata": {},
   "source": [
    "##### 10. Постройте график 5 атлетов которые выйграли большинство золотых медалей."
   ]
  },
  {
   "cell_type": "code",
   "execution_count": 28,
   "metadata": {},
   "outputs": [],
   "source": [
    "# Crosstable athletes and number of gold medals\n",
    "ath_gold = pd.crosstab(data.Athlete[data.Medal == 'Gold'], data.Medal[data.Medal == 'Gold'])"
   ]
  },
  {
   "cell_type": "code",
   "execution_count": 29,
   "metadata": {},
   "outputs": [],
   "source": [
    "ath_gold.sort_values(by='Gold', ascending=False, inplace=True)"
   ]
  },
  {
   "cell_type": "code",
   "execution_count": 30,
   "metadata": {},
   "outputs": [
    {
     "data": {
      "text/html": [
       "<div>\n",
       "<style scoped>\n",
       "    .dataframe tbody tr th:only-of-type {\n",
       "        vertical-align: middle;\n",
       "    }\n",
       "\n",
       "    .dataframe tbody tr th {\n",
       "        vertical-align: top;\n",
       "    }\n",
       "\n",
       "    .dataframe thead th {\n",
       "        text-align: right;\n",
       "    }\n",
       "</style>\n",
       "<table border=\"1\" class=\"dataframe\">\n",
       "  <thead>\n",
       "    <tr style=\"text-align: right;\">\n",
       "      <th>Medal</th>\n",
       "      <th>Gold</th>\n",
       "    </tr>\n",
       "    <tr>\n",
       "      <th>Athlete</th>\n",
       "      <th></th>\n",
       "    </tr>\n",
       "  </thead>\n",
       "  <tbody>\n",
       "    <tr>\n",
       "      <th>PHELPS, Michael</th>\n",
       "      <td>14</td>\n",
       "    </tr>\n",
       "    <tr>\n",
       "      <th>LATYNINA, Larisa</th>\n",
       "      <td>9</td>\n",
       "    </tr>\n",
       "    <tr>\n",
       "      <th>NURMI, Paavo</th>\n",
       "      <td>9</td>\n",
       "    </tr>\n",
       "    <tr>\n",
       "      <th>LEWIS, Carl</th>\n",
       "      <td>9</td>\n",
       "    </tr>\n",
       "    <tr>\n",
       "      <th>SPITZ, Mark</th>\n",
       "      <td>9</td>\n",
       "    </tr>\n",
       "    <tr>\n",
       "      <th>KATO, Sawao</th>\n",
       "      <td>8</td>\n",
       "    </tr>\n",
       "  </tbody>\n",
       "</table>\n",
       "</div>"
      ],
      "text/plain": [
       "Medal             Gold\n",
       "Athlete               \n",
       "PHELPS, Michael     14\n",
       "LATYNINA, Larisa     9\n",
       "NURMI, Paavo         9\n",
       "LEWIS, Carl          9\n",
       "SPITZ, Mark          9\n",
       "KATO, Sawao          8"
      ]
     },
     "execution_count": 30,
     "metadata": {},
     "output_type": "execute_result"
    }
   ],
   "source": [
    "ath_gold.head(6)"
   ]
  },
  {
   "cell_type": "code",
   "execution_count": 31,
   "metadata": {},
   "outputs": [
    {
     "data": {
      "image/png": "[encoded data removed]",
      "text/plain": [
       "<Figure size 720x432 with 1 Axes>"
      ]
     },
     "metadata": {
      "needs_background": "light"
     },
     "output_type": "display_data"
    }
   ],
   "source": [
    "ath_gold[:5].plot.bar(figsize = (10, 6), title = '5 best athlets')\n",
    "plt.show()"
   ]
  },
  {
   "cell_type": "markdown",
   "metadata": {},
   "source": [
    "##### 11. Покажите суммарное количество медалей выйгранных странами в последних олимпийских играх."
   ]
  },
  {
   "cell_type": "code",
   "execution_count": 32,
   "metadata": {},
   "outputs": [],
   "source": [
    "# Medals in last games by countries\n",
    "last_games_medals = pd.DataFrame({'Country': [c for c, g in data[data.Edition == 2008].groupby('NOC')], \n",
    "                                  'Medals_quantity': [g.Medal.count() for c, g in data[data.Edition == 2008].groupby('NOC')]})"
   ]
  },
  {
   "cell_type": "code",
   "execution_count": 33,
   "metadata": {},
   "outputs": [
    {
     "data": {
      "text/html": [
       "<div>\n",
       "<style scoped>\n",
       "    .dataframe tbody tr th:only-of-type {\n",
       "        vertical-align: middle;\n",
       "    }\n",
       "\n",
       "    .dataframe tbody tr th {\n",
       "        vertical-align: top;\n",
       "    }\n",
       "\n",
       "    .dataframe thead th {\n",
       "        text-align: right;\n",
       "    }\n",
       "</style>\n",
       "<table border=\"1\" class=\"dataframe\">\n",
       "  <thead>\n",
       "    <tr style=\"text-align: right;\">\n",
       "      <th></th>\n",
       "      <th>Country</th>\n",
       "      <th>Medals_quantity</th>\n",
       "    </tr>\n",
       "  </thead>\n",
       "  <tbody>\n",
       "    <tr>\n",
       "      <th>0</th>\n",
       "      <td>AFG</td>\n",
       "      <td>1</td>\n",
       "    </tr>\n",
       "    <tr>\n",
       "      <th>1</th>\n",
       "      <td>ALG</td>\n",
       "      <td>2</td>\n",
       "    </tr>\n",
       "    <tr>\n",
       "      <th>2</th>\n",
       "      <td>ARG</td>\n",
       "      <td>51</td>\n",
       "    </tr>\n",
       "    <tr>\n",
       "      <th>3</th>\n",
       "      <td>ARM</td>\n",
       "      <td>6</td>\n",
       "    </tr>\n",
       "    <tr>\n",
       "      <th>4</th>\n",
       "      <td>AUS</td>\n",
       "      <td>149</td>\n",
       "    </tr>\n",
       "    <tr>\n",
       "      <th>...</th>\n",
       "      <td>...</td>\n",
       "      <td>...</td>\n",
       "    </tr>\n",
       "    <tr>\n",
       "      <th>81</th>\n",
       "      <td>USA</td>\n",
       "      <td>315</td>\n",
       "    </tr>\n",
       "    <tr>\n",
       "      <th>82</th>\n",
       "      <td>UZB</td>\n",
       "      <td>6</td>\n",
       "    </tr>\n",
       "    <tr>\n",
       "      <th>83</th>\n",
       "      <td>VEN</td>\n",
       "      <td>1</td>\n",
       "    </tr>\n",
       "    <tr>\n",
       "      <th>84</th>\n",
       "      <td>VIE</td>\n",
       "      <td>1</td>\n",
       "    </tr>\n",
       "    <tr>\n",
       "      <th>85</th>\n",
       "      <td>ZIM</td>\n",
       "      <td>4</td>\n",
       "    </tr>\n",
       "  </tbody>\n",
       "</table>\n",
       "<p>86 rows × 2 columns</p>\n",
       "</div>"
      ],
      "text/plain": [
       "   Country  Medals_quantity\n",
       "0      AFG                1\n",
       "1      ALG                2\n",
       "2      ARG               51\n",
       "3      ARM                6\n",
       "4      AUS              149\n",
       "..     ...              ...\n",
       "81     USA              315\n",
       "82     UZB                6\n",
       "83     VEN                1\n",
       "84     VIE                1\n",
       "85     ZIM                4\n",
       "\n",
       "[86 rows x 2 columns]"
      ]
     },
     "execution_count": 33,
     "metadata": {},
     "output_type": "execute_result"
    }
   ],
   "source": [
    "last_games_medals"
   ]
  },
  {
   "cell_type": "code",
   "execution_count": 34,
   "metadata": {},
   "outputs": [
    {
     "data": {
      "image/png": "[encoded data removed]",
      "text/plain": [
       "<Figure size 1080x576 with 1 Axes>"
      ]
     },
     "metadata": {
      "needs_background": "light"
     },
     "output_type": "display_data"
    }
   ],
   "source": [
    "last_games_medals.plot.bar(x = 'Country', y = 'Medals_quantity', figsize = (15, 8), title = 'Medals by countries in last games')\n",
    "plt.show()"
   ]
  },
  {
   "cell_type": "markdown",
   "metadata": {},
   "source": [
    "##### 12. Постройте таблицу в которой по годам всех олимпиад покажите топовых атлетов США(1 атлет на год) по общему количеству медалей. Включите дисциплину атлета."
   ]
  },
  {
   "cell_type": "code",
   "execution_count": 35,
   "metadata": {},
   "outputs": [],
   "source": [
    "# USA athlets table\n",
    "usa_athlets = data[data.NOC == 'USA'].groupby('Edition')\n",
    "\n",
    "# USA athlets' disciplines\n",
    "usdisc = data[['Athlete', 'Discipline']][data.NOC == 'USA'].copy()\n",
    "usdisc.drop_duplicates('Athlete', inplace = True)\n",
    "usdisc.index=usdisc.Athlete"
   ]
  },
  {
   "cell_type": "code",
   "execution_count": 36,
   "metadata": {},
   "outputs": [],
   "source": [
    "# table with top usa athlets\n",
    "t_usa_a = pd.DataFrame({'Year': [e for e, g in usa_athlets],\n",
    "                                'Athlete': [g.Athlete.value_counts().index[0] for e, g in usa_athlets],\n",
    "                                'Discipline': [usdisc.Discipline[g.Athlete.value_counts().index[0]] \n",
    "                                               for e, g in usa_athlets],\n",
    "                                'Number_of_medals': [g.Athlete.value_counts()[0] for e, g in usa_athlets]})"
   ]
  },
  {
   "cell_type": "code",
   "execution_count": 38,
   "metadata": {},
   "outputs": [
    {
     "name": "stdout",
     "output_type": "stream",
     "text": [
      "Top USA athlets:\n",
      "\n",
      "     Year                      Athlete   Discipline  Number_of_medals\n",
      "0   1896              GARRETT, Robert    Athletics                 4\n",
      "1   1900    TEWKSBURY, Walter B. John    Athletics                 5\n",
      "2   1904                EYSER, George  Artistic G.                 6\n",
      "3   1908             SHEPPARD, Melvin    Athletics                 3\n",
      "4   1912        OSBURN, Carl Townsend     Shooting                 4\n",
      "5   1920       SPOONER, Lloyd Spencer     Shooting                 7\n",
      "6   1924          WEISSMULLER, Johnny     Swimming                 4\n",
      "7   1928          ROBINSON, Elizabeth    Athletics                 2\n",
      "8   1932           DIDRIKSON, Mildred    Athletics                 3\n",
      "9   1936                 OWENS, Jesse    Athletics                 4\n",
      "10  1948        CURTIS, Ann Elisabeth     Swimming                 3\n",
      "11  1952          KONNO, Ford Hiroshi     Swimming                 3\n",
      "12  1956         BREEN, George Thomas     Swimming                 3\n",
      "13  1960  VON SALTZA, Susan Christina     Swimming                 4\n",
      "14  1964   SCHOLLANDER, Donald Arthur     Swimming                 4\n",
      "15  1968                  SPITZ, Mark     Swimming                 4\n",
      "16  1972                  SPITZ, Mark     Swimming                 7\n",
      "17  1976         NABER, John Phillips     Swimming                 5\n",
      "18  1984             RETTON, Mary-Lou  Artistic G.                 5\n",
      "19  1988              BIONDI, Matthew     Swimming                 7\n",
      "20  1992              MILLER, Shannon  Artistic G.                 5\n",
      "21  1996               MARTINO, Angel     Swimming                 4\n",
      "22  2000                 TORRES, Dara     Swimming                 5\n",
      "23  2004              PHELPS, Michael     Swimming                 8\n",
      "24  2008              PHELPS, Michael     Swimming                 8\n"
     ]
    }
   ],
   "source": [
    "print(f'Top USA athlets:\\n\\n {t_usa_a}')"
   ]
  },
  {
   "cell_type": "code",
   "execution_count": null,
   "metadata": {},
   "outputs": [],
   "source": []
  }
 ],
 "metadata": {
  "kernelspec": {
   "display_name": "Python 3",
   "language": "python",
   "name": "python3"
  },
  "language_info": {
   "codemirror_mode": {
    "name": "ipython",
    "version": 3
   },
   "file_extension": ".py",
   "mimetype": "text/x-python",
   "name": "python",
   "nbconvert_exporter": "python",
   "pygments_lexer": "ipython3",
   "version": "3.7.6"
  }
 },
 "nbformat": 4,
 "nbformat_minor": 4
}
